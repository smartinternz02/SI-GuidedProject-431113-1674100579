{
 "cells": [
  {
   "cell_type": "code",
   "execution_count": 1,
   "id": "20de0af5",
   "metadata": {
    "id": "20de0af5"
   },
   "outputs": [],
   "source": [
    "import pandas as pd"
   ]
  },
  {
   "cell_type": "code",
   "execution_count": 2,
   "id": "27d3033a",
   "metadata": {
    "id": "27d3033a"
   },
   "outputs": [],
   "source": [
    "trip = pd.read_csv(\"tripadvisor_hotel_reviews.csv\")"
   ]
  },
  {
   "cell_type": "code",
   "execution_count": 3,
   "id": "b27cfc7b",
   "metadata": {
    "colab": {
     "base_uri": "https://localhost:8080/",
     "height": 206
    },
    "id": "b27cfc7b",
    "outputId": "348ea672-4c72-4989-e68b-98e44715af79"
   },
   "outputs": [
    {
     "data": {
      "text/html": [
       "<div>\n",
       "<style scoped>\n",
       "    .dataframe tbody tr th:only-of-type {\n",
       "        vertical-align: middle;\n",
       "    }\n",
       "\n",
       "    .dataframe tbody tr th {\n",
       "        vertical-align: top;\n",
       "    }\n",
       "\n",
       "    .dataframe thead th {\n",
       "        text-align: right;\n",
       "    }\n",
       "</style>\n",
       "<table border=\"1\" class=\"dataframe\">\n",
       "  <thead>\n",
       "    <tr style=\"text-align: right;\">\n",
       "      <th></th>\n",
       "      <th>Review</th>\n",
       "      <th>Rating</th>\n",
       "    </tr>\n",
       "  </thead>\n",
       "  <tbody>\n",
       "    <tr>\n",
       "      <th>0</th>\n",
       "      <td>nice hotel expensive parking got good deal sta...</td>\n",
       "      <td>4</td>\n",
       "    </tr>\n",
       "    <tr>\n",
       "      <th>1</th>\n",
       "      <td>ok nothing special charge diamond member hilto...</td>\n",
       "      <td>2</td>\n",
       "    </tr>\n",
       "    <tr>\n",
       "      <th>2</th>\n",
       "      <td>nice rooms not 4* experience hotel monaco seat...</td>\n",
       "      <td>3</td>\n",
       "    </tr>\n",
       "    <tr>\n",
       "      <th>3</th>\n",
       "      <td>unique, great stay, wonderful time hotel monac...</td>\n",
       "      <td>5</td>\n",
       "    </tr>\n",
       "    <tr>\n",
       "      <th>4</th>\n",
       "      <td>great stay great stay, went seahawk game aweso...</td>\n",
       "      <td>5</td>\n",
       "    </tr>\n",
       "  </tbody>\n",
       "</table>\n",
       "</div>"
      ],
      "text/plain": [
       "                                              Review  Rating\n",
       "0  nice hotel expensive parking got good deal sta...       4\n",
       "1  ok nothing special charge diamond member hilto...       2\n",
       "2  nice rooms not 4* experience hotel monaco seat...       3\n",
       "3  unique, great stay, wonderful time hotel monac...       5\n",
       "4  great stay great stay, went seahawk game aweso...       5"
      ]
     },
     "execution_count": 3,
     "metadata": {},
     "output_type": "execute_result"
    }
   ],
   "source": [
    "trip.head()"
   ]
  },
  {
   "cell_type": "code",
   "execution_count": 4,
   "id": "edb4a935",
   "metadata": {
    "id": "edb4a935"
   },
   "outputs": [],
   "source": [
    "trip = trip[(trip[ 'Rating']==5) | (trip[ 'Rating'] ==2) | (trip[ 'Rating' ]==1)][[ 'Review', 'Rating']]  \n",
    "trip['Rating'] = trip['Rating'].apply(lambda rating: 'Pos' if rating==5 else 'Neg')\n"
   ]
  },
  {
   "cell_type": "code",
   "execution_count": 5,
   "id": "5676e91c",
   "metadata": {
    "colab": {
     "base_uri": "https://localhost:8080/",
     "height": 206
    },
    "id": "5676e91c",
    "outputId": "990c17e2-652c-463b-ea45-899b9a222a02"
   },
   "outputs": [
    {
     "data": {
      "text/html": [
       "<div>\n",
       "<style scoped>\n",
       "    .dataframe tbody tr th:only-of-type {\n",
       "        vertical-align: middle;\n",
       "    }\n",
       "\n",
       "    .dataframe tbody tr th {\n",
       "        vertical-align: top;\n",
       "    }\n",
       "\n",
       "    .dataframe thead th {\n",
       "        text-align: right;\n",
       "    }\n",
       "</style>\n",
       "<table border=\"1\" class=\"dataframe\">\n",
       "  <thead>\n",
       "    <tr style=\"text-align: right;\">\n",
       "      <th></th>\n",
       "      <th>index</th>\n",
       "      <th>Review</th>\n",
       "      <th>Rating</th>\n",
       "    </tr>\n",
       "  </thead>\n",
       "  <tbody>\n",
       "    <tr>\n",
       "      <th>0</th>\n",
       "      <td>1</td>\n",
       "      <td>ok nothing special charge diamond member hilto...</td>\n",
       "      <td>Neg</td>\n",
       "    </tr>\n",
       "    <tr>\n",
       "      <th>1</th>\n",
       "      <td>3</td>\n",
       "      <td>unique, great stay, wonderful time hotel monac...</td>\n",
       "      <td>Pos</td>\n",
       "    </tr>\n",
       "    <tr>\n",
       "      <th>2</th>\n",
       "      <td>4</td>\n",
       "      <td>great stay great stay, went seahawk game aweso...</td>\n",
       "      <td>Pos</td>\n",
       "    </tr>\n",
       "    <tr>\n",
       "      <th>3</th>\n",
       "      <td>5</td>\n",
       "      <td>love monaco staff husband stayed hotel crazy w...</td>\n",
       "      <td>Pos</td>\n",
       "    </tr>\n",
       "    <tr>\n",
       "      <th>4</th>\n",
       "      <td>6</td>\n",
       "      <td>cozy stay rainy city, husband spent 7 nights m...</td>\n",
       "      <td>Pos</td>\n",
       "    </tr>\n",
       "  </tbody>\n",
       "</table>\n",
       "</div>"
      ],
      "text/plain": [
       "   index                                             Review Rating\n",
       "0      1  ok nothing special charge diamond member hilto...    Neg\n",
       "1      3  unique, great stay, wonderful time hotel monac...    Pos\n",
       "2      4  great stay great stay, went seahawk game aweso...    Pos\n",
       "3      5  love monaco staff husband stayed hotel crazy w...    Pos\n",
       "4      6  cozy stay rainy city, husband spent 7 nights m...    Pos"
      ]
     },
     "execution_count": 5,
     "metadata": {},
     "output_type": "execute_result"
    }
   ],
   "source": [
    "trip.reset_index(inplace=True) \n",
    "trip.head()"
   ]
  },
  {
   "cell_type": "code",
   "execution_count": 6,
   "id": "908f8aba",
   "metadata": {
    "colab": {
     "base_uri": "https://localhost:8080/"
    },
    "id": "908f8aba",
    "outputId": "9821a1c0-56b8-4d8e-afe0-ee2beb10e691"
   },
   "outputs": [
    {
     "data": {
      "text/plain": [
       "Pos    9054\n",
       "Neg    3214\n",
       "Name: Rating, dtype: int64"
      ]
     },
     "execution_count": 6,
     "metadata": {},
     "output_type": "execute_result"
    }
   ],
   "source": [
    "trip['Rating'].value_counts()\n"
   ]
  },
  {
   "cell_type": "code",
   "execution_count": 7,
   "id": "d66c26ad",
   "metadata": {
    "id": "d66c26ad"
   },
   "outputs": [],
   "source": [
    "import re\n",
    "import nltk"
   ]
  },
  {
   "cell_type": "code",
   "execution_count": 8,
   "id": "032596d1",
   "metadata": {
    "id": "032596d1"
   },
   "outputs": [],
   "source": [
    "from nltk.corpus import stopwords \n",
    "from nltk.stem.porter import PorterStemmer \n",
    "from nltk.stem import WordNetLemmatizer"
   ]
  },
  {
   "cell_type": "code",
   "execution_count": 9,
   "id": "bmJIRNPkum9j",
   "metadata": {
    "colab": {
     "base_uri": "https://localhost:8080/"
    },
    "id": "bmJIRNPkum9j",
    "outputId": "5ad80d58-e61a-48b7-de76-12d3e95b3b46"
   },
   "outputs": [
    {
     "name": "stdout",
     "output_type": "stream",
     "text": [
      "['i', 'me', 'my', 'myself', 'we', 'our', 'ours', 'ourselves', 'you', \"you're\", \"you've\", \"you'll\", \"you'd\", 'your', 'yours', 'yourself', 'yourselves', 'he', 'him', 'his', 'himself', 'she', \"she's\", 'her', 'hers', 'herself', 'it', \"it's\", 'its', 'itself', 'they', 'them', 'their', 'theirs', 'themselves', 'what', 'which', 'who', 'whom', 'this', 'that', \"that'll\", 'these', 'those', 'am', 'is', 'are', 'was', 'were', 'be', 'been', 'being', 'have', 'has', 'had', 'having', 'do', 'does', 'did', 'doing', 'a', 'an', 'the', 'and', 'but', 'if', 'or', 'because', 'as', 'until', 'while', 'of', 'at', 'by', 'for', 'with', 'about', 'against', 'between', 'into', 'through', 'during', 'before', 'after', 'above', 'below', 'to', 'from', 'up', 'down', 'in', 'out', 'on', 'off', 'over', 'under', 'again', 'further', 'then', 'once', 'here', 'there', 'when', 'where', 'why', 'how', 'all', 'any', 'both', 'each', 'few', 'more', 'most', 'other', 'some', 'such', 'no', 'nor', 'not', 'only', 'own', 'same', 'so', 'than', 'too', 'very', 's', 't', 'can', 'will', 'just', 'don', \"don't\", 'should', \"should've\", 'now', 'd', 'll', 'm', 'o', 're', 've', 'y', 'ain', 'aren', \"aren't\", 'couldn', \"couldn't\", 'didn', \"didn't\", 'doesn', \"doesn't\", 'hadn', \"hadn't\", 'hasn', \"hasn't\", 'haven', \"haven't\", 'isn', \"isn't\", 'ma', 'mightn', \"mightn't\", 'mustn', \"mustn't\", 'needn', \"needn't\", 'shan', \"shan't\", 'shouldn', \"shouldn't\", 'wasn', \"wasn't\", 'weren', \"weren't\", 'won', \"won't\", 'wouldn', \"wouldn't\"]\n"
     ]
    }
   ],
   "source": [
    "import nltk\n",
    "from nltk.corpus import stopwords\n",
    "print(stopwords.words('english'))"
   ]
  },
  {
   "cell_type": "code",
   "execution_count": 10,
   "id": "163c5df8",
   "metadata": {
    "colab": {
     "base_uri": "https://localhost:8080/"
    },
    "id": "163c5df8",
    "outputId": "c00bd5b8-239f-4167-fc60-066fefcb7795"
   },
   "outputs": [
    {
     "name": "stderr",
     "output_type": "stream",
     "text": [
      "[nltk_data] Downloading package stopwords to\n",
      "[nltk_data]     C:\\Users\\HP\\AppData\\Roaming\\nltk_data...\n",
      "[nltk_data]   Package stopwords is already up-to-date!\n",
      "[nltk_data] Downloading package wordnet to\n",
      "[nltk_data]     C:\\Users\\HP\\AppData\\Roaming\\nltk_data...\n",
      "[nltk_data]   Package wordnet is already up-to-date!\n"
     ]
    },
    {
     "data": {
      "text/plain": [
       "True"
      ]
     },
     "execution_count": 10,
     "metadata": {},
     "output_type": "execute_result"
    }
   ],
   "source": [
    "nltk.download('stopwords') \n",
    "nltk.download('wordnet')"
   ]
  },
  {
   "cell_type": "code",
   "execution_count": 11,
   "id": "kVzwfwbtwJqW",
   "metadata": {
    "colab": {
     "base_uri": "https://localhost:8080/"
    },
    "id": "kVzwfwbtwJqW",
    "outputId": "bd29c105-542a-4e78-bf97-19f4a24a48e2"
   },
   "outputs": [
    {
     "name": "stderr",
     "output_type": "stream",
     "text": [
      "[nltk_data] Downloading package omw-1.4 to\n",
      "[nltk_data]     C:\\Users\\HP\\AppData\\Roaming\\nltk_data...\n",
      "[nltk_data]   Package omw-1.4 is already up-to-date!\n"
     ]
    },
    {
     "data": {
      "text/plain": [
       "True"
      ]
     },
     "execution_count": 11,
     "metadata": {},
     "output_type": "execute_result"
    }
   ],
   "source": [
    "import nltk\n",
    "nltk.download('omw-1.4')"
   ]
  },
  {
   "cell_type": "code",
   "execution_count": 12,
   "id": "d842d219",
   "metadata": {
    "id": "d842d219"
   },
   "outputs": [],
   "source": [
    "ps = WordNetLemmatizer()\n",
    "corpus = []"
   ]
  },
  {
   "cell_type": "code",
   "execution_count": 13,
   "id": "8ef83280",
   "metadata": {
    "id": "8ef83280"
   },
   "outputs": [],
   "source": [
    "for i in range(0, len(trip)):\n",
    "    review = re.sub('[^a-zA-Z]',\" \",trip['Review'][i])\n",
    "    review = review.lower()\n",
    "    review = review.split()\n",
    "    review = [ps.lemmatize(word) for word in review if not word in stopwords.words('english')]\n",
    "    review = ' '.join(review)\n",
    "    corpus.append(review)"
   ]
  },
  {
   "cell_type": "code",
   "execution_count": 14,
   "id": "0cd1c9b2",
   "metadata": {
    "id": "0cd1c9b2"
   },
   "outputs": [],
   "source": [
    "trip.to_csv('tdata.csv',index=False)"
   ]
  },
  {
   "cell_type": "code",
   "execution_count": 15,
   "id": "aa28d195",
   "metadata": {
    "id": "aa28d195"
   },
   "outputs": [],
   "source": [
    "from sklearn.feature_extraction.text import CountVectorizer\n",
    "cv = CountVectorizer()"
   ]
  },
  {
   "cell_type": "code",
   "execution_count": 16,
   "id": "93336d45",
   "metadata": {
    "id": "93336d45",
    "scrolled": true
   },
   "outputs": [],
   "source": [
    "x = cv.fit_transform(corpus).toarray()"
   ]
  },
  {
   "cell_type": "code",
   "execution_count": 17,
   "id": "f10b1b7c",
   "metadata": {
    "colab": {
     "base_uri": "https://localhost:8080/"
    },
    "id": "f10b1b7c",
    "outputId": "a2f78698-2123-4485-acb6-299733fbe8f3"
   },
   "outputs": [
    {
     "data": {
      "text/plain": [
       "(12268, 34569)"
      ]
     },
     "execution_count": 17,
     "metadata": {},
     "output_type": "execute_result"
    }
   ],
   "source": [
    "x.shape"
   ]
  },
  {
   "cell_type": "code",
   "execution_count": 18,
   "id": "d0136fa6",
   "metadata": {
    "id": "d0136fa6"
   },
   "outputs": [],
   "source": [
    "y = pd.get_dummies(trip['Rating'])\n",
    "y = y.iloc[:,1].values"
   ]
  },
  {
   "cell_type": "code",
   "execution_count": 19,
   "id": "f2382157",
   "metadata": {
    "colab": {
     "base_uri": "https://localhost:8080/"
    },
    "id": "f2382157",
    "outputId": "87a6aa2f-3525-4b3c-f3c2-91eb59755f77"
   },
   "outputs": [
    {
     "data": {
      "text/plain": [
       "array([0, 1, 1, ..., 0, 0, 0], dtype=uint8)"
      ]
     },
     "execution_count": 19,
     "metadata": {},
     "output_type": "execute_result"
    }
   ],
   "source": [
    "y"
   ]
  },
  {
   "cell_type": "code",
   "execution_count": 20,
   "id": "8b84f877",
   "metadata": {
    "id": "8b84f877"
   },
   "outputs": [],
   "source": [
    "from sklearn.model_selection import train_test_split\n",
    "X_train,X_test,y_train,y_test = train_test_split(x,y,test_size=0.20,random_state=3)"
   ]
  },
  {
   "cell_type": "code",
   "execution_count": 21,
   "id": "e86134e3",
   "metadata": {
    "colab": {
     "base_uri": "https://localhost:8080/"
    },
    "id": "e86134e3",
    "outputId": "ea2a0495-85c8-4aeb-fc36-a9b631ac26af"
   },
   "outputs": [
    {
     "data": {
      "text/plain": [
       "0.9539527302363489"
      ]
     },
     "execution_count": 21,
     "metadata": {},
     "output_type": "execute_result"
    }
   ],
   "source": [
    "from sklearn.naive_bayes import MultinomialNB \n",
    "model1 = MultinomialNB().fit(X_train, y_train)\n",
    "model1.score(X_test,y_test)"
   ]
  },
  {
   "cell_type": "code",
   "execution_count": 22,
   "id": "f9029f20",
   "metadata": {
    "id": "f9029f20"
   },
   "outputs": [],
   "source": [
    "y_pred = model1.predict(X_test)"
   ]
  },
  {
   "cell_type": "code",
   "execution_count": 23,
   "id": "926c4468",
   "metadata": {
    "id": "926c4468"
   },
   "outputs": [],
   "source": [
    "from sklearn.metrics import confusion_matrix \n",
    "confusion_m = confusion_matrix(y_test,y_pred)"
   ]
  },
  {
   "cell_type": "code",
   "execution_count": 24,
   "id": "939fd826",
   "metadata": {
    "colab": {
     "base_uri": "https://localhost:8080/"
    },
    "id": "939fd826",
    "outputId": "92edad7b-7200-4fb0-cbaf-71415721af47"
   },
   "outputs": [
    {
     "data": {
      "text/plain": [
       "array([[ 574,   69],\n",
       "       [  44, 1767]], dtype=int64)"
      ]
     },
     "execution_count": 24,
     "metadata": {},
     "output_type": "execute_result"
    }
   ],
   "source": [
    "confusion_m"
   ]
  },
  {
   "cell_type": "code",
   "execution_count": 25,
   "id": "ce5e8beb",
   "metadata": {
    "id": "ce5e8beb"
   },
   "outputs": [],
   "source": [
    "from sklearn.metrics import accuracy_score \n",
    "accuracy = accuracy_score(y_test,y_pred)"
   ]
  },
  {
   "cell_type": "code",
   "execution_count": 26,
   "id": "dd7a6f50",
   "metadata": {
    "colab": {
     "base_uri": "https://localhost:8080/"
    },
    "id": "dd7a6f50",
    "outputId": "c6ee3b58-8725-4468-c1e4-88a51b2da850"
   },
   "outputs": [
    {
     "data": {
      "text/plain": [
       "0.9539527302363489"
      ]
     },
     "execution_count": 26,
     "metadata": {},
     "output_type": "execute_result"
    }
   ],
   "source": [
    "accuracy"
   ]
  },
  {
   "cell_type": "code",
   "execution_count": 27,
   "id": "c5e773f4",
   "metadata": {
    "colab": {
     "base_uri": "https://localhost:8080/"
    },
    "id": "c5e773f4",
    "outputId": "23ab7266-133c-4081-dfef-ab2580447c33"
   },
   "outputs": [
    {
     "data": {
      "text/plain": [
       "0.9624183006535948"
      ]
     },
     "execution_count": 27,
     "metadata": {},
     "output_type": "execute_result"
    }
   ],
   "source": [
    "from sklearn.metrics import precision_score \n",
    "precision_score(y_test,y_pred)"
   ]
  },
  {
   "cell_type": "code",
   "execution_count": 28,
   "id": "0004b43e",
   "metadata": {
    "colab": {
     "base_uri": "https://localhost:8080/"
    },
    "id": "0004b43e",
    "outputId": "53bf19b5-65b1-49a4-d5b5-3785a34137c5"
   },
   "outputs": [
    {
     "data": {
      "text/plain": [
       "0.9757040309221424"
      ]
     },
     "execution_count": 28,
     "metadata": {},
     "output_type": "execute_result"
    }
   ],
   "source": [
    "from sklearn.metrics import recall_score\n",
    "recall_score(y_test,y_pred)"
   ]
  },
  {
   "cell_type": "code",
   "execution_count": 29,
   "id": "5cdd7639",
   "metadata": {
    "colab": {
     "base_uri": "https://localhost:8080/"
    },
    "id": "5cdd7639",
    "outputId": "40adea63-7e12-4b88-a81c-167a625adf02"
   },
   "outputs": [
    {
     "data": {
      "text/plain": [
       "0.9690156292843433"
      ]
     },
     "execution_count": 29,
     "metadata": {},
     "output_type": "execute_result"
    }
   ],
   "source": [
    "from sklearn.metrics import fbeta_score \n",
    "fbeta_score(y_test, y_pred,beta=1)"
   ]
  },
  {
   "cell_type": "code",
   "execution_count": 30,
   "id": "e23db202",
   "metadata": {
    "colab": {
     "base_uri": "https://localhost:8080/"
    },
    "id": "e23db202",
    "outputId": "210262a3-da96-4947-eac8-de47bf43a31f"
   },
   "outputs": [
    {
     "name": "stdout",
     "output_type": "stream",
     "text": [
      "Negative\n",
      "0.8445454685022524\n"
     ]
    }
   ],
   "source": [
    "positive_message = \"the hotel was nice and comfy\"\n",
    "negative_message = \"the hotel was bad and the staff was rude\"\n",
    "data = [negative_message]\n",
    "vect = cv.transform(data).toarray()\n",
    "my_prediction = model1.predict(vect)\n",
    "my_prediction_prob = model1.predict_proba(vect)\n",
    "if my_prediction==1: \n",
    "    print(\"Positive\") \n",
    "    print(my_prediction_prob[0][1])\n",
    "\n",
    "else:\n",
    "\n",
    "    print(\"Negative\")\n",
    "    print (my_prediction_prob[0][0])\n"
   ]
  },
  {
   "cell_type": "code",
   "execution_count": 31,
   "id": "e29201cd",
   "metadata": {
    "id": "e29201cd"
   },
   "outputs": [],
   "source": [
    "from sklearn.linear_model import LogisticRegression\n",
    "logreg = LogisticRegression(solver = 'liblinear')"
   ]
  },
  {
   "cell_type": "code",
   "execution_count": 32,
   "id": "1ed48724",
   "metadata": {
    "id": "1ed48724"
   },
   "outputs": [],
   "source": [
    "model = logreg.fit(X_train,y_train)"
   ]
  },
  {
   "cell_type": "code",
   "execution_count": 33,
   "id": "252ac25a",
   "metadata": {
    "id": "252ac25a"
   },
   "outputs": [],
   "source": [
    "y_pred_class = logreg.predict(X_test)"
   ]
  },
  {
   "cell_type": "code",
   "execution_count": 34,
   "id": "bd70c22d",
   "metadata": {
    "colab": {
     "base_uri": "https://localhost:8080/"
    },
    "id": "bd70c22d",
    "outputId": "8d6c55f4-f252-4e00-b5c4-30f02037adc1"
   },
   "outputs": [
    {
     "data": {
      "text/plain": [
       "0.9341972720707136"
      ]
     },
     "execution_count": 34,
     "metadata": {},
     "output_type": "execute_result"
    }
   ],
   "source": [
    "from sklearn import metrics\n",
    "metrics.roc_auc_score (y_test, y_pred)"
   ]
  },
  {
   "cell_type": "code",
   "execution_count": 35,
   "id": "04419b2f",
   "metadata": {
    "colab": {
     "base_uri": "https://localhost:8080/"
    },
    "id": "04419b2f",
    "outputId": "e8758c93-dad9-4405-9b61-d422794897ad"
   },
   "outputs": [
    {
     "data": {
      "text/plain": [
       "array([[ 574,   69],\n",
       "       [  44, 1767]], dtype=int64)"
      ]
     },
     "execution_count": 35,
     "metadata": {},
     "output_type": "execute_result"
    }
   ],
   "source": [
    "metrics.confusion_matrix (y_test,y_pred)"
   ]
  },
  {
   "cell_type": "code",
   "execution_count": 36,
   "id": "48f4e08d",
   "metadata": {
    "colab": {
     "base_uri": "https://localhost:8080/"
    },
    "id": "48f4e08d",
    "outputId": "298b022b-927f-46cb-f951-b1d7af658788"
   },
   "outputs": [
    {
     "name": "stdout",
     "output_type": "stream",
     "text": [
      "Positive\n",
      "0.15545453149774663\n"
     ]
    }
   ],
   "source": [
    "positive_message = \"cozy stay rainy city, wonderful time at the hotel. \"\n",
    "negative_message = \"The first thing that you notice about this hotel is the stench of m. \"\n",
    "data= [positive_message.lower()]\n",
    "vect=cv.transform(data).toarray()\n",
    "my_prediction=model.predict(vect)\n",
    "\n",
    "if my_prediction <= 1:\n",
    "    print(\"Positive\") \n",
    "    print(my_prediction_prob[0][1])\n",
    "else:\n",
    "    print(\"Negative\") \n",
    "    print(my_prediction_prob[0][0])"
   ]
  },
  {
   "cell_type": "code",
   "execution_count": 37,
   "id": "19b79848",
   "metadata": {
    "colab": {
     "base_uri": "https://localhost:8080/"
    },
    "id": "19b79848",
    "outputId": "8b8c81e1-8894-43a5-935f-f33c61acf1c9"
   },
   "outputs": [
    {
     "name": "stdout",
     "output_type": "stream",
     "text": [
      "Positive\n",
      "0.9046083528511962\n"
     ]
    }
   ],
   "source": [
    "positive_message = \"the hotel was nice and comfy\" \n",
    "negative_message = \"the hotel was bad and the staff was rude\"\n",
    "data = [negative_message.lower()]\n",
    "my_prediction = model.predict(vect)\n",
    "my_prediction_prob = model.predict_proba(vect)\n",
    "\n",
    "if my_prediction==1:\n",
    "    print(\"Positive\") \n",
    "    print (my_prediction_prob[0][1])\n",
    "\n",
    "else:\n",
    "\n",
    "    print(\"Negative\")\n",
    "    print (my_prediction_prob[0][0])"
   ]
  },
  {
   "cell_type": "code",
   "execution_count": 38,
   "id": "8efda268",
   "metadata": {
    "id": "8efda268"
   },
   "outputs": [],
   "source": [
    "import pickle\n",
    "\n",
    "filename = 'logistic_regression_model.pk1'\n",
    "pickle.dump(model, open(filename, 'wb')) \n",
    "pickle.dump(cv, open('transform_logistic.pkl', 'wb'))"
   ]
  },
  {
   "cell_type": "code",
   "execution_count": 39,
   "id": "32b5ff97",
   "metadata": {
    "id": "32b5ff97"
   },
   "outputs": [],
   "source": [
    "pickle.dump(cv, open('tranform.pk1', 'wb'))\n",
    "filename = 'naive_bayes_model.pkl' \n",
    "pickle.dump(model, open(filename, 'wb'))"
   ]
  },
  {
   "cell_type": "code",
   "execution_count": null,
   "id": "4171029d",
   "metadata": {},
   "outputs": [],
   "source": []
  }
 ],
 "metadata": {
  "colab": {
   "provenance": []
  },
  "kernelspec": {
   "display_name": "Python 3 (ipykernel)",
   "language": "python",
   "name": "python3"
  },
  "language_info": {
   "codemirror_mode": {
    "name": "ipython",
    "version": 3
   },
   "file_extension": ".py",
   "mimetype": "text/x-python",
   "name": "python",
   "nbconvert_exporter": "python",
   "pygments_lexer": "ipython3",
   "version": "3.9.13"
  }
 },
 "nbformat": 4,
 "nbformat_minor": 5
}
